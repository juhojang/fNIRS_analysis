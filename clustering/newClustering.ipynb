{
 "cells": [
  {
   "attachments": {},
   "cell_type": "markdown",
   "metadata": {},
   "source": [
    "# fNirs analysis"
   ]
  },
  {
   "cell_type": "code",
   "execution_count": 1458,
   "metadata": {},
   "outputs": [
    {
     "data": {
      "text/html": [
       "<div>\n",
       "<style scoped>\n",
       "    .dataframe tbody tr th:only-of-type {\n",
       "        vertical-align: middle;\n",
       "    }\n",
       "\n",
       "    .dataframe tbody tr th {\n",
       "        vertical-align: top;\n",
       "    }\n",
       "\n",
       "    .dataframe thead th {\n",
       "        text-align: right;\n",
       "    }\n",
       "</style>\n",
       "<table border=\"1\" class=\"dataframe\">\n",
       "  <thead>\n",
       "    <tr style=\"text-align: right;\">\n",
       "      <th></th>\n",
       "      <th>Ch01</th>\n",
       "      <th>Ch02</th>\n",
       "      <th>Ch03</th>\n",
       "      <th>Ch04</th>\n",
       "      <th>Ch05</th>\n",
       "      <th>Ch06</th>\n",
       "      <th>Ch07</th>\n",
       "      <th>Ch08</th>\n",
       "      <th>Ch09</th>\n",
       "      <th>Ch10</th>\n",
       "      <th>Ch11</th>\n",
       "      <th>Ch12</th>\n",
       "      <th>Ch13</th>\n",
       "      <th>Ch14</th>\n",
       "      <th>Ch15</th>\n",
       "    </tr>\n",
       "  </thead>\n",
       "  <tbody>\n",
       "    <tr>\n",
       "      <th>6</th>\n",
       "      <td>-4.336809e-17</td>\n",
       "      <td>-8.483882e-18</td>\n",
       "      <td>-2.385245e-17</td>\n",
       "      <td>-2.168404e-17</td>\n",
       "      <td>-4.531965e-17</td>\n",
       "      <td>-2.428613e-17</td>\n",
       "      <td>-4.933120e-17</td>\n",
       "      <td>-5.713745e-17</td>\n",
       "      <td>-4.515702e-17</td>\n",
       "      <td>-5.009014e-17</td>\n",
       "      <td>-5.811324e-17</td>\n",
       "      <td>-3.567025e-17</td>\n",
       "      <td>-3.339343e-17</td>\n",
       "      <td>-3.447763e-17</td>\n",
       "      <td>-1.778092e-17</td>\n",
       "    </tr>\n",
       "    <tr>\n",
       "      <th>7</th>\n",
       "      <td>1.192622e-18</td>\n",
       "      <td>-2.320193e-17</td>\n",
       "      <td>-1.089623e-17</td>\n",
       "      <td>-2.347298e-17</td>\n",
       "      <td>-3.447763e-17</td>\n",
       "      <td>-1.512462e-17</td>\n",
       "      <td>-3.935654e-17</td>\n",
       "      <td>-4.163336e-17</td>\n",
       "      <td>-2.244298e-17</td>\n",
       "      <td>-3.122502e-17</td>\n",
       "      <td>-3.144186e-17</td>\n",
       "      <td>-1.745565e-17</td>\n",
       "      <td>-1.252254e-17</td>\n",
       "      <td>4.770490e-18</td>\n",
       "      <td>-8.456777e-18</td>\n",
       "    </tr>\n",
       "    <tr>\n",
       "      <th>8</th>\n",
       "      <td>9.757820e-19</td>\n",
       "      <td>1.441989e-17</td>\n",
       "      <td>1.040834e-17</td>\n",
       "      <td>2.309351e-17</td>\n",
       "      <td>1.490778e-17</td>\n",
       "      <td>1.073360e-17</td>\n",
       "      <td>2.623769e-17</td>\n",
       "      <td>9.974660e-18</td>\n",
       "      <td>1.311885e-17</td>\n",
       "      <td>3.480289e-17</td>\n",
       "      <td>2.059984e-17</td>\n",
       "      <td>1.685934e-17</td>\n",
       "      <td>1.843144e-17</td>\n",
       "      <td>1.111307e-17</td>\n",
       "      <td>1.070650e-17</td>\n",
       "    </tr>\n",
       "    <tr>\n",
       "      <th>9</th>\n",
       "      <td>-9.519295e-18</td>\n",
       "      <td>4.865899e-16</td>\n",
       "      <td>-7.860466e-18</td>\n",
       "      <td>1.071192e-16</td>\n",
       "      <td>1.225148e-17</td>\n",
       "      <td>2.558717e-17</td>\n",
       "      <td>1.106970e-16</td>\n",
       "      <td>1.056013e-16</td>\n",
       "      <td>3.241764e-17</td>\n",
       "      <td>9.389191e-17</td>\n",
       "      <td>3.941075e-17</td>\n",
       "      <td>2.656295e-17</td>\n",
       "      <td>5.442695e-17</td>\n",
       "      <td>7.784572e-17</td>\n",
       "      <td>1.138412e-16</td>\n",
       "    </tr>\n",
       "    <tr>\n",
       "      <th>10</th>\n",
       "      <td>-2.612927e-17</td>\n",
       "      <td>-1.891933e-17</td>\n",
       "      <td>-1.550409e-17</td>\n",
       "      <td>-1.998998e-18</td>\n",
       "      <td>-9.269929e-18</td>\n",
       "      <td>-7.738493e-18</td>\n",
       "      <td>-5.976664e-18</td>\n",
       "      <td>-3.415237e-18</td>\n",
       "      <td>-1.031347e-17</td>\n",
       "      <td>-4.445229e-18</td>\n",
       "      <td>-6.952446e-18</td>\n",
       "      <td>-7.209944e-18</td>\n",
       "      <td>-1.008308e-17</td>\n",
       "      <td>-1.019150e-17</td>\n",
       "      <td>-1.531436e-17</td>\n",
       "    </tr>\n",
       "    <tr>\n",
       "      <th>11</th>\n",
       "      <td>1.973248e-17</td>\n",
       "      <td>6.667843e-18</td>\n",
       "      <td>1.428436e-17</td>\n",
       "      <td>1.493488e-17</td>\n",
       "      <td>9.757820e-18</td>\n",
       "      <td>8.565197e-18</td>\n",
       "      <td>2.846031e-17</td>\n",
       "      <td>1.273938e-17</td>\n",
       "      <td>2.423192e-17</td>\n",
       "      <td>3.816392e-17</td>\n",
       "      <td>2.808084e-17</td>\n",
       "      <td>2.293088e-17</td>\n",
       "      <td>4.141652e-17</td>\n",
       "      <td>2.612927e-17</td>\n",
       "      <td>2.081668e-17</td>\n",
       "    </tr>\n",
       "  </tbody>\n",
       "</table>\n",
       "</div>"
      ],
      "text/plain": [
       "            Ch01          Ch02          Ch03          Ch04          Ch05  \\\n",
       "6  -4.336809e-17 -8.483882e-18 -2.385245e-17 -2.168404e-17 -4.531965e-17   \n",
       "7   1.192622e-18 -2.320193e-17 -1.089623e-17 -2.347298e-17 -3.447763e-17   \n",
       "8   9.757820e-19  1.441989e-17  1.040834e-17  2.309351e-17  1.490778e-17   \n",
       "9  -9.519295e-18  4.865899e-16 -7.860466e-18  1.071192e-16  1.225148e-17   \n",
       "10 -2.612927e-17 -1.891933e-17 -1.550409e-17 -1.998998e-18 -9.269929e-18   \n",
       "11  1.973248e-17  6.667843e-18  1.428436e-17  1.493488e-17  9.757820e-18   \n",
       "\n",
       "            Ch06          Ch07          Ch08          Ch09          Ch10  \\\n",
       "6  -2.428613e-17 -4.933120e-17 -5.713745e-17 -4.515702e-17 -5.009014e-17   \n",
       "7  -1.512462e-17 -3.935654e-17 -4.163336e-17 -2.244298e-17 -3.122502e-17   \n",
       "8   1.073360e-17  2.623769e-17  9.974660e-18  1.311885e-17  3.480289e-17   \n",
       "9   2.558717e-17  1.106970e-16  1.056013e-16  3.241764e-17  9.389191e-17   \n",
       "10 -7.738493e-18 -5.976664e-18 -3.415237e-18 -1.031347e-17 -4.445229e-18   \n",
       "11  8.565197e-18  2.846031e-17  1.273938e-17  2.423192e-17  3.816392e-17   \n",
       "\n",
       "            Ch11          Ch12          Ch13          Ch14          Ch15  \n",
       "6  -5.811324e-17 -3.567025e-17 -3.339343e-17 -3.447763e-17 -1.778092e-17  \n",
       "7  -3.144186e-17 -1.745565e-17 -1.252254e-17  4.770490e-18 -8.456777e-18  \n",
       "8   2.059984e-17  1.685934e-17  1.843144e-17  1.111307e-17  1.070650e-17  \n",
       "9   3.941075e-17  2.656295e-17  5.442695e-17  7.784572e-17  1.138412e-16  \n",
       "10 -6.952446e-18 -7.209944e-18 -1.008308e-17 -1.019150e-17 -1.531436e-17  \n",
       "11  2.808084e-17  2.293088e-17  4.141652e-17  2.612927e-17  2.081668e-17  "
      ]
     },
     "execution_count": 1458,
     "metadata": {},
     "output_type": "execute_result"
    }
   ],
   "source": [
    "import pandas as pd\n",
    "f_Nirs=pd.read_csv(\"D:/Dataset/f_Nirsdatasets/1-6 A,B GLM/1st level data/cB.csv\")\n",
    "f_Nirs.drop(['Group','Subject'],axis=1,inplace=True)\n",
    "f_Nirs=f_Nirs[6:12] #day1\n",
    "f_Nirs.fillna(f_Nirs['Ch01'].mean(),inplace=True)\n",
    "f_Nirs"
   ]
  },
  {
   "attachments": {},
   "cell_type": "markdown",
   "metadata": {},
   "source": [
    "import pandas as pd\n",
    "f_Nirs=pd.DataFrame()\n",
    "for i in range(7,13): #day1\n",
    "    raw=pd.read_csv(\"D:/Dataset/f_Nirsdatasets/result/\"+str(i)+\"/Group data/Group_statistic(C-A).csv\")\n",
    "    f_Nirs[i]=raw.iloc[:,1]\n",
    "f_Nirs=f_Nirs.transpose()\n",
    "f_Nirs"
   ]
  },
  {
   "cell_type": "code",
   "execution_count": 1459,
   "metadata": {},
   "outputs": [
    {
     "data": {
      "text/plain": [
       "<seaborn.matrix.ClusterGrid at 0x1e1d3b38280>"
      ]
     },
     "execution_count": 1459,
     "metadata": {},
     "output_type": "execute_result"
    },
    {
     "data": {
      "image/png": "[encoded data removed]",
      "text/plain": [
       "<Figure size 720x720 with 4 Axes>"
      ]
     },
     "metadata": {
      "needs_background": "light"
     },
     "output_type": "display_data"
    }
   ],
   "source": [
    "import numpy as np\n",
    "import seaborn as sns\n",
    "\n",
    "df_fNirs=f_Nirs.corr()\n",
    "sns.clustermap(df_fNirs, \n",
    "               annot = True,      \n",
    "               cmap = 'RdYlBu_r',  \n",
    "               vmin = -1, vmax = 1, \n",
    "              )"
   ]
  },
  {
   "cell_type": "code",
   "execution_count": 1460,
   "metadata": {},
   "outputs": [
    {
     "data": {
      "text/plain": [
       "array([[-1.65751947e+00, -4.60083181e-01, -1.34049628e+00,\n",
       "        -8.62528001e-01, -1.55179265e+00, -1.41175920e+00,\n",
       "        -1.15038311e+00, -1.17944772e+00, -1.60859038e+00,\n",
       "        -1.32193429e+00, -1.64070103e+00, -1.60343363e+00,\n",
       "        -1.38346676e+00, -1.35335166e+00, -7.73789962e-01],\n",
       "       [ 5.24544919e-01, -5.40065626e-01, -3.90522637e-01,\n",
       "        -9.03116348e-01, -1.09245590e+00, -8.70796013e-01,\n",
       "        -9.62641814e-01, -8.82073011e-01, -7.74389725e-01,\n",
       "        -9.29860597e-01, -8.69067708e-01, -8.07049744e-01,\n",
       "        -7.13626429e-01, -2.23434379e-01, -5.68136796e-01],\n",
       "       [ 5.13926601e-01, -3.35616945e-01,  1.17156791e+00,\n",
       "         1.53410628e-01,  9.99822987e-01,  6.56064571e-01,\n",
       "         2.71961299e-01,  1.07789669e-01,  5.31661890e-01,\n",
       "         4.42397328e-01,  6.36558278e-01,  6.93280617e-01,\n",
       "         2.79825073e-01, -4.08372497e-02, -1.45471716e-01],\n",
       "       [ 7.54476886e-17,  2.23030238e+00, -1.67934671e-01,\n",
       "         2.05983299e+00,  8.87285484e-01,  1.53312914e+00,\n",
       "         1.86164035e+00,  1.94194699e+00,  1.24043380e+00,\n",
       "         1.67044424e+00,  1.18077934e+00,  1.11754465e+00,\n",
       "         1.43508216e+00,  1.88033425e+00,  2.12926751e+00],\n",
       "       [-8.13363174e-01, -5.16792649e-01, -7.28379371e-01,\n",
       "        -4.15902438e-01, -2.44979599e-02, -4.34664452e-01,\n",
       "        -3.34371676e-01, -1.49033947e-01, -3.28918614e-01,\n",
       "        -3.73296217e-01, -1.60560896e-01, -3.59083807e-01,\n",
       "        -6.35333403e-01, -6.54176324e-01, -7.19387525e-01],\n",
       "       [ 1.43241112e+00, -3.77743978e-01,  1.45576505e+00,\n",
       "        -3.16968342e-02,  7.81638032e-01,  5.28025948e-01,\n",
       "         3.13794958e-01,  1.60818026e-01,  9.39803020e-01,\n",
       "         5.12249537e-01,  8.52992014e-01,  9.58741913e-01,\n",
       "         1.01751936e+00,  3.91465355e-01,  7.75184896e-02]])"
      ]
     },
     "execution_count": 1460,
     "metadata": {},
     "output_type": "execute_result"
    }
   ],
   "source": [
    "from sklearn.preprocessing import StandardScaler\n",
    "\n",
    "std=StandardScaler()\n",
    "f_Nirs_std=std.fit_transform(f_Nirs)\n",
    "f_Nirs_std"
   ]
  },
  {
   "cell_type": "code",
   "execution_count": 1461,
   "metadata": {},
   "outputs": [
    {
     "name": "stdout",
     "output_type": "stream",
     "text": [
      "[0 0 1 2 0 1]\n"
     ]
    },
    {
     "data": {
      "text/plain": [
       "0.44986417765906855"
      ]
     },
     "execution_count": 1461,
     "metadata": {},
     "output_type": "execute_result"
    },
    {
     "data": {
      "image/png": "[encoded data removed]",
      "text/plain": [
       "<Figure size 432x288 with 1 Axes>"
      ]
     },
     "metadata": {
      "needs_background": "light"
     },
     "output_type": "display_data"
    }
   ],
   "source": [
    "from scipy.cluster.hierarchy import linkage,dendrogram,cut_tree\n",
    "from sklearn.metrics import silhouette_score\n",
    "\n",
    "links=linkage(f_Nirs_std,'average')\n",
    "dendrogram(links,orientation='top',distance_sort='descending',show_leaf_counts=True)\n",
    "cluster_fNirs=cut_tree(links,3)\n",
    "cluster_fNirs=cluster_fNirs.reshape(-1,)\n",
    "print(cluster_fNirs)\n",
    "silhouette_score(f_Nirs_std,cluster_fNirs)"
   ]
  },
  {
   "cell_type": "code",
   "execution_count": 1462,
   "metadata": {},
   "outputs": [
    {
     "data": {
      "text/plain": [
       "<seaborn.matrix.ClusterGrid at 0x1e1d0dc0250>"
      ]
     },
     "execution_count": 1462,
     "metadata": {},
     "output_type": "execute_result"
    },
    {
     "data": {
      "image/png": "[encoded data removed]",
      "text/plain": [
       "<Figure size 720x720 with 4 Axes>"
      ]
     },
     "metadata": {
      "needs_background": "light"
     },
     "output_type": "display_data"
    }
   ],
   "source": [
    "import seaborn as sns\n",
    "sns.clustermap(f_Nirs_std, metric=\"euclidean\", standard_scale=1, method=\"average\")"
   ]
  },
  {
   "attachments": {},
   "cell_type": "markdown",
   "metadata": {},
   "source": [
    "# 데이터 전처리"
   ]
  },
  {
   "cell_type": "code",
   "execution_count": 1463,
   "metadata": {},
   "outputs": [
    {
     "name": "stderr",
     "output_type": "stream",
     "text": [
      "C:\\Users\\bml05\\AppData\\Local\\Temp\\ipykernel_10104\\2265906424.py:3: SettingWithCopyWarning: \n",
      "A value is trying to be set on a copy of a slice from a DataFrame\n",
      "\n",
      "See the caveats in the documentation: https://pandas.pydata.org/pandas-docs/stable/user_guide/indexing.html#returning-a-view-versus-a-copy\n",
      "  day1.drop(['subjectkey','date','age','sex','right_handed','piano_year','piano_major','impro_experience','condition','post_B_IF_10','pre_SE_10','pre_SE_11'\n",
      "C:\\Users\\bml05\\AppData\\Local\\Temp\\ipykernel_10104\\2265906424.py:6: SettingWithCopyWarning: \n",
      "A value is trying to be set on a copy of a slice from a DataFrame\n",
      "\n",
      "See the caveats in the documentation: https://pandas.pydata.org/pandas-docs/stable/user_guide/indexing.html#returning-a-view-versus-a-copy\n",
      "  day1.drop(['pre_SE_0'+str(i)],axis=1,inplace=True)\n",
      "C:\\Users\\bml05\\AppData\\Local\\Temp\\ipykernel_10104\\2265906424.py:7: SettingWithCopyWarning: \n",
      "A value is trying to be set on a copy of a slice from a DataFrame\n",
      "\n",
      "See the caveats in the documentation: https://pandas.pydata.org/pandas-docs/stable/user_guide/indexing.html#returning-a-view-versus-a-copy\n",
      "  day1.drop(['post_B_IF_0'+str(i)],axis=1,inplace=True)\n",
      "C:\\Users\\bml05\\AppData\\Local\\Temp\\ipykernel_10104\\2265906424.py:8: SettingWithCopyWarning: \n",
      "A value is trying to be set on a copy of a slice from a DataFrame\n",
      "\n",
      "See the caveats in the documentation: https://pandas.pydata.org/pandas-docs/stable/user_guide/indexing.html#returning-a-view-versus-a-copy\n",
      "  day1.drop(['post_B_SE_0'+str(i)],axis=1,inplace=True)\n",
      "C:\\Users\\bml05\\AppData\\Local\\Temp\\ipykernel_10104\\2265906424.py:6: SettingWithCopyWarning: \n",
      "A value is trying to be set on a copy of a slice from a DataFrame\n",
      "\n",
      "See the caveats in the documentation: https://pandas.pydata.org/pandas-docs/stable/user_guide/indexing.html#returning-a-view-versus-a-copy\n",
      "  day1.drop(['pre_SE_0'+str(i)],axis=1,inplace=True)\n",
      "C:\\Users\\bml05\\AppData\\Local\\Temp\\ipykernel_10104\\2265906424.py:7: SettingWithCopyWarning: \n",
      "A value is trying to be set on a copy of a slice from a DataFrame\n",
      "\n",
      "See the caveats in the documentation: https://pandas.pydata.org/pandas-docs/stable/user_guide/indexing.html#returning-a-view-versus-a-copy\n",
      "  day1.drop(['post_B_IF_0'+str(i)],axis=1,inplace=True)\n",
      "C:\\Users\\bml05\\AppData\\Local\\Temp\\ipykernel_10104\\2265906424.py:8: SettingWithCopyWarning: \n",
      "A value is trying to be set on a copy of a slice from a DataFrame\n",
      "\n",
      "See the caveats in the documentation: https://pandas.pydata.org/pandas-docs/stable/user_guide/indexing.html#returning-a-view-versus-a-copy\n",
      "  day1.drop(['post_B_SE_0'+str(i)],axis=1,inplace=True)\n",
      "C:\\Users\\bml05\\AppData\\Local\\Temp\\ipykernel_10104\\2265906424.py:6: SettingWithCopyWarning: \n",
      "A value is trying to be set on a copy of a slice from a DataFrame\n",
      "\n",
      "See the caveats in the documentation: https://pandas.pydata.org/pandas-docs/stable/user_guide/indexing.html#returning-a-view-versus-a-copy\n",
      "  day1.drop(['pre_SE_0'+str(i)],axis=1,inplace=True)\n",
      "C:\\Users\\bml05\\AppData\\Local\\Temp\\ipykernel_10104\\2265906424.py:7: SettingWithCopyWarning: \n",
      "A value is trying to be set on a copy of a slice from a DataFrame\n",
      "\n",
      "See the caveats in the documentation: https://pandas.pydata.org/pandas-docs/stable/user_guide/indexing.html#returning-a-view-versus-a-copy\n",
      "  day1.drop(['post_B_IF_0'+str(i)],axis=1,inplace=True)\n",
      "C:\\Users\\bml05\\AppData\\Local\\Temp\\ipykernel_10104\\2265906424.py:8: SettingWithCopyWarning: \n",
      "A value is trying to be set on a copy of a slice from a DataFrame\n",
      "\n",
      "See the caveats in the documentation: https://pandas.pydata.org/pandas-docs/stable/user_guide/indexing.html#returning-a-view-versus-a-copy\n",
      "  day1.drop(['post_B_SE_0'+str(i)],axis=1,inplace=True)\n",
      "C:\\Users\\bml05\\AppData\\Local\\Temp\\ipykernel_10104\\2265906424.py:6: SettingWithCopyWarning: \n",
      "A value is trying to be set on a copy of a slice from a DataFrame\n",
      "\n",
      "See the caveats in the documentation: https://pandas.pydata.org/pandas-docs/stable/user_guide/indexing.html#returning-a-view-versus-a-copy\n",
      "  day1.drop(['pre_SE_0'+str(i)],axis=1,inplace=True)\n",
      "C:\\Users\\bml05\\AppData\\Local\\Temp\\ipykernel_10104\\2265906424.py:7: SettingWithCopyWarning: \n",
      "A value is trying to be set on a copy of a slice from a DataFrame\n",
      "\n",
      "See the caveats in the documentation: https://pandas.pydata.org/pandas-docs/stable/user_guide/indexing.html#returning-a-view-versus-a-copy\n",
      "  day1.drop(['post_B_IF_0'+str(i)],axis=1,inplace=True)\n",
      "C:\\Users\\bml05\\AppData\\Local\\Temp\\ipykernel_10104\\2265906424.py:8: SettingWithCopyWarning: \n",
      "A value is trying to be set on a copy of a slice from a DataFrame\n",
      "\n",
      "See the caveats in the documentation: https://pandas.pydata.org/pandas-docs/stable/user_guide/indexing.html#returning-a-view-versus-a-copy\n",
      "  day1.drop(['post_B_SE_0'+str(i)],axis=1,inplace=True)\n",
      "C:\\Users\\bml05\\AppData\\Local\\Temp\\ipykernel_10104\\2265906424.py:6: SettingWithCopyWarning: \n",
      "A value is trying to be set on a copy of a slice from a DataFrame\n",
      "\n",
      "See the caveats in the documentation: https://pandas.pydata.org/pandas-docs/stable/user_guide/indexing.html#returning-a-view-versus-a-copy\n",
      "  day1.drop(['pre_SE_0'+str(i)],axis=1,inplace=True)\n",
      "C:\\Users\\bml05\\AppData\\Local\\Temp\\ipykernel_10104\\2265906424.py:7: SettingWithCopyWarning: \n",
      "A value is trying to be set on a copy of a slice from a DataFrame\n",
      "\n",
      "See the caveats in the documentation: https://pandas.pydata.org/pandas-docs/stable/user_guide/indexing.html#returning-a-view-versus-a-copy\n",
      "  day1.drop(['post_B_IF_0'+str(i)],axis=1,inplace=True)\n",
      "C:\\Users\\bml05\\AppData\\Local\\Temp\\ipykernel_10104\\2265906424.py:8: SettingWithCopyWarning: \n",
      "A value is trying to be set on a copy of a slice from a DataFrame\n",
      "\n",
      "See the caveats in the documentation: https://pandas.pydata.org/pandas-docs/stable/user_guide/indexing.html#returning-a-view-versus-a-copy\n",
      "  day1.drop(['post_B_SE_0'+str(i)],axis=1,inplace=True)\n",
      "C:\\Users\\bml05\\AppData\\Local\\Temp\\ipykernel_10104\\2265906424.py:6: SettingWithCopyWarning: \n",
      "A value is trying to be set on a copy of a slice from a DataFrame\n",
      "\n",
      "See the caveats in the documentation: https://pandas.pydata.org/pandas-docs/stable/user_guide/indexing.html#returning-a-view-versus-a-copy\n",
      "  day1.drop(['pre_SE_0'+str(i)],axis=1,inplace=True)\n",
      "C:\\Users\\bml05\\AppData\\Local\\Temp\\ipykernel_10104\\2265906424.py:7: SettingWithCopyWarning: \n",
      "A value is trying to be set on a copy of a slice from a DataFrame\n",
      "\n",
      "See the caveats in the documentation: https://pandas.pydata.org/pandas-docs/stable/user_guide/indexing.html#returning-a-view-versus-a-copy\n",
      "  day1.drop(['post_B_IF_0'+str(i)],axis=1,inplace=True)\n",
      "C:\\Users\\bml05\\AppData\\Local\\Temp\\ipykernel_10104\\2265906424.py:8: SettingWithCopyWarning: \n",
      "A value is trying to be set on a copy of a slice from a DataFrame\n",
      "\n",
      "See the caveats in the documentation: https://pandas.pydata.org/pandas-docs/stable/user_guide/indexing.html#returning-a-view-versus-a-copy\n",
      "  day1.drop(['post_B_SE_0'+str(i)],axis=1,inplace=True)\n",
      "C:\\Users\\bml05\\AppData\\Local\\Temp\\ipykernel_10104\\2265906424.py:6: SettingWithCopyWarning: \n",
      "A value is trying to be set on a copy of a slice from a DataFrame\n",
      "\n",
      "See the caveats in the documentation: https://pandas.pydata.org/pandas-docs/stable/user_guide/indexing.html#returning-a-view-versus-a-copy\n",
      "  day1.drop(['pre_SE_0'+str(i)],axis=1,inplace=True)\n",
      "C:\\Users\\bml05\\AppData\\Local\\Temp\\ipykernel_10104\\2265906424.py:7: SettingWithCopyWarning: \n",
      "A value is trying to be set on a copy of a slice from a DataFrame\n",
      "\n",
      "See the caveats in the documentation: https://pandas.pydata.org/pandas-docs/stable/user_guide/indexing.html#returning-a-view-versus-a-copy\n",
      "  day1.drop(['post_B_IF_0'+str(i)],axis=1,inplace=True)\n",
      "C:\\Users\\bml05\\AppData\\Local\\Temp\\ipykernel_10104\\2265906424.py:8: SettingWithCopyWarning: \n",
      "A value is trying to be set on a copy of a slice from a DataFrame\n",
      "\n",
      "See the caveats in the documentation: https://pandas.pydata.org/pandas-docs/stable/user_guide/indexing.html#returning-a-view-versus-a-copy\n",
      "  day1.drop(['post_B_SE_0'+str(i)],axis=1,inplace=True)\n",
      "C:\\Users\\bml05\\AppData\\Local\\Temp\\ipykernel_10104\\2265906424.py:6: SettingWithCopyWarning: \n",
      "A value is trying to be set on a copy of a slice from a DataFrame\n",
      "\n",
      "See the caveats in the documentation: https://pandas.pydata.org/pandas-docs/stable/user_guide/indexing.html#returning-a-view-versus-a-copy\n",
      "  day1.drop(['pre_SE_0'+str(i)],axis=1,inplace=True)\n",
      "C:\\Users\\bml05\\AppData\\Local\\Temp\\ipykernel_10104\\2265906424.py:7: SettingWithCopyWarning: \n",
      "A value is trying to be set on a copy of a slice from a DataFrame\n",
      "\n",
      "See the caveats in the documentation: https://pandas.pydata.org/pandas-docs/stable/user_guide/indexing.html#returning-a-view-versus-a-copy\n",
      "  day1.drop(['post_B_IF_0'+str(i)],axis=1,inplace=True)\n",
      "C:\\Users\\bml05\\AppData\\Local\\Temp\\ipykernel_10104\\2265906424.py:8: SettingWithCopyWarning: \n",
      "A value is trying to be set on a copy of a slice from a DataFrame\n",
      "\n",
      "See the caveats in the documentation: https://pandas.pydata.org/pandas-docs/stable/user_guide/indexing.html#returning-a-view-versus-a-copy\n",
      "  day1.drop(['post_B_SE_0'+str(i)],axis=1,inplace=True)\n",
      "C:\\Users\\bml05\\AppData\\Local\\Temp\\ipykernel_10104\\2265906424.py:6: SettingWithCopyWarning: \n",
      "A value is trying to be set on a copy of a slice from a DataFrame\n",
      "\n",
      "See the caveats in the documentation: https://pandas.pydata.org/pandas-docs/stable/user_guide/indexing.html#returning-a-view-versus-a-copy\n",
      "  day1.drop(['pre_SE_0'+str(i)],axis=1,inplace=True)\n",
      "C:\\Users\\bml05\\AppData\\Local\\Temp\\ipykernel_10104\\2265906424.py:7: SettingWithCopyWarning: \n",
      "A value is trying to be set on a copy of a slice from a DataFrame\n",
      "\n",
      "See the caveats in the documentation: https://pandas.pydata.org/pandas-docs/stable/user_guide/indexing.html#returning-a-view-versus-a-copy\n",
      "  day1.drop(['post_B_IF_0'+str(i)],axis=1,inplace=True)\n",
      "C:\\Users\\bml05\\AppData\\Local\\Temp\\ipykernel_10104\\2265906424.py:8: SettingWithCopyWarning: \n",
      "A value is trying to be set on a copy of a slice from a DataFrame\n",
      "\n",
      "See the caveats in the documentation: https://pandas.pydata.org/pandas-docs/stable/user_guide/indexing.html#returning-a-view-versus-a-copy\n",
      "  day1.drop(['post_B_SE_0'+str(i)],axis=1,inplace=True)\n",
      "C:\\Users\\bml05\\AppData\\Local\\Temp\\ipykernel_10104\\2265906424.py:9: SettingWithCopyWarning: \n",
      "A value is trying to be set on a copy of a slice from a DataFrame.\n",
      "Try using .loc[row_indexer,col_indexer] = value instead\n",
      "\n",
      "See the caveats in the documentation: https://pandas.pydata.org/pandas-docs/stable/user_guide/indexing.html#returning-a-view-versus-a-copy\n",
      "  day1.loc[:,'post_A_SE_05']=6-day1.loc[:,'post_A_SE_05']\n",
      "C:\\Users\\bml05\\AppData\\Local\\Temp\\ipykernel_10104\\2265906424.py:10: SettingWithCopyWarning: \n",
      "A value is trying to be set on a copy of a slice from a DataFrame.\n",
      "Try using .loc[row_indexer,col_indexer] = value instead\n",
      "\n",
      "See the caveats in the documentation: https://pandas.pydata.org/pandas-docs/stable/user_guide/indexing.html#returning-a-view-versus-a-copy\n",
      "  day1.loc[:,'post_A_SE_07']=6-day1.loc[:,'post_A_SE_07']\n",
      "C:\\Users\\bml05\\AppData\\Local\\Temp\\ipykernel_10104\\2265906424.py:11: SettingWithCopyWarning: \n",
      "A value is trying to be set on a copy of a slice from a DataFrame.\n",
      "Try using .loc[row_indexer,col_indexer] = value instead\n",
      "\n",
      "See the caveats in the documentation: https://pandas.pydata.org/pandas-docs/stable/user_guide/indexing.html#returning-a-view-versus-a-copy\n",
      "  day1.loc[:,'post_C_SE_05']=6-day1.loc[:,'post_C_SE_05']\n",
      "C:\\Users\\bml05\\AppData\\Local\\Temp\\ipykernel_10104\\2265906424.py:12: SettingWithCopyWarning: \n",
      "A value is trying to be set on a copy of a slice from a DataFrame.\n",
      "Try using .loc[row_indexer,col_indexer] = value instead\n",
      "\n",
      "See the caveats in the documentation: https://pandas.pydata.org/pandas-docs/stable/user_guide/indexing.html#returning-a-view-versus-a-copy\n",
      "  day1.loc[:,'post_C_SE_07']=6-day1.loc[:,'post_C_SE_07']\n"
     ]
    },
    {
     "data": {
      "text/html": [
       "<div>\n",
       "<style scoped>\n",
       "    .dataframe tbody tr th:only-of-type {\n",
       "        vertical-align: middle;\n",
       "    }\n",
       "\n",
       "    .dataframe tbody tr th {\n",
       "        vertical-align: top;\n",
       "    }\n",
       "\n",
       "    .dataframe thead th {\n",
       "        text-align: right;\n",
       "    }\n",
       "</style>\n",
       "<table border=\"1\" class=\"dataframe\">\n",
       "  <thead>\n",
       "    <tr style=\"text-align: right;\">\n",
       "      <th></th>\n",
       "      <th>post_A_SE_01</th>\n",
       "      <th>post_A_SE_02</th>\n",
       "      <th>post_A_SE_03</th>\n",
       "      <th>post_A_SE_04</th>\n",
       "      <th>post_A_SE_05</th>\n",
       "      <th>post_A_SE_06</th>\n",
       "      <th>post_A_SE_07</th>\n",
       "      <th>post_A_SE_08</th>\n",
       "      <th>post_A_SE_09</th>\n",
       "      <th>post_A_SE_10</th>\n",
       "      <th>...</th>\n",
       "      <th>post_C_IF_02</th>\n",
       "      <th>post_C_IF_03</th>\n",
       "      <th>post_C_IF_04</th>\n",
       "      <th>post_C_IF_05</th>\n",
       "      <th>post_C_IF_06</th>\n",
       "      <th>post_C_IF_07</th>\n",
       "      <th>post_C_IF_08</th>\n",
       "      <th>post_C_IF_09</th>\n",
       "      <th>post_C_IF_10</th>\n",
       "      <th>post_C_diff</th>\n",
       "    </tr>\n",
       "  </thead>\n",
       "  <tbody>\n",
       "    <tr>\n",
       "      <th>6</th>\n",
       "      <td>4</td>\n",
       "      <td>4</td>\n",
       "      <td>4</td>\n",
       "      <td>5</td>\n",
       "      <td>3</td>\n",
       "      <td>3</td>\n",
       "      <td>3</td>\n",
       "      <td>4</td>\n",
       "      <td>5</td>\n",
       "      <td>5</td>\n",
       "      <td>...</td>\n",
       "      <td>3</td>\n",
       "      <td>4</td>\n",
       "      <td>4</td>\n",
       "      <td>4</td>\n",
       "      <td>5</td>\n",
       "      <td>5</td>\n",
       "      <td>5</td>\n",
       "      <td>3</td>\n",
       "      <td>4</td>\n",
       "      <td>3</td>\n",
       "    </tr>\n",
       "    <tr>\n",
       "      <th>7</th>\n",
       "      <td>3</td>\n",
       "      <td>4</td>\n",
       "      <td>5</td>\n",
       "      <td>5</td>\n",
       "      <td>3</td>\n",
       "      <td>4</td>\n",
       "      <td>3</td>\n",
       "      <td>5</td>\n",
       "      <td>5</td>\n",
       "      <td>5</td>\n",
       "      <td>...</td>\n",
       "      <td>4</td>\n",
       "      <td>4</td>\n",
       "      <td>4</td>\n",
       "      <td>4</td>\n",
       "      <td>4</td>\n",
       "      <td>4</td>\n",
       "      <td>4</td>\n",
       "      <td>3</td>\n",
       "      <td>4</td>\n",
       "      <td>2</td>\n",
       "    </tr>\n",
       "    <tr>\n",
       "      <th>8</th>\n",
       "      <td>5</td>\n",
       "      <td>4</td>\n",
       "      <td>4</td>\n",
       "      <td>5</td>\n",
       "      <td>2</td>\n",
       "      <td>4</td>\n",
       "      <td>2</td>\n",
       "      <td>5</td>\n",
       "      <td>4</td>\n",
       "      <td>5</td>\n",
       "      <td>...</td>\n",
       "      <td>5</td>\n",
       "      <td>5</td>\n",
       "      <td>5</td>\n",
       "      <td>4</td>\n",
       "      <td>5</td>\n",
       "      <td>5</td>\n",
       "      <td>5</td>\n",
       "      <td>1</td>\n",
       "      <td>4</td>\n",
       "      <td>3</td>\n",
       "    </tr>\n",
       "    <tr>\n",
       "      <th>9</th>\n",
       "      <td>4</td>\n",
       "      <td>4</td>\n",
       "      <td>4</td>\n",
       "      <td>5</td>\n",
       "      <td>2</td>\n",
       "      <td>4</td>\n",
       "      <td>3</td>\n",
       "      <td>4</td>\n",
       "      <td>5</td>\n",
       "      <td>5</td>\n",
       "      <td>...</td>\n",
       "      <td>2</td>\n",
       "      <td>4</td>\n",
       "      <td>5</td>\n",
       "      <td>5</td>\n",
       "      <td>5</td>\n",
       "      <td>5</td>\n",
       "      <td>5</td>\n",
       "      <td>2</td>\n",
       "      <td>5</td>\n",
       "      <td>5</td>\n",
       "    </tr>\n",
       "    <tr>\n",
       "      <th>10</th>\n",
       "      <td>4</td>\n",
       "      <td>4</td>\n",
       "      <td>4</td>\n",
       "      <td>5</td>\n",
       "      <td>2</td>\n",
       "      <td>1</td>\n",
       "      <td>2</td>\n",
       "      <td>4</td>\n",
       "      <td>5</td>\n",
       "      <td>4</td>\n",
       "      <td>...</td>\n",
       "      <td>4</td>\n",
       "      <td>5</td>\n",
       "      <td>4</td>\n",
       "      <td>4</td>\n",
       "      <td>4</td>\n",
       "      <td>5</td>\n",
       "      <td>5</td>\n",
       "      <td>2</td>\n",
       "      <td>4</td>\n",
       "      <td>4</td>\n",
       "    </tr>\n",
       "    <tr>\n",
       "      <th>11</th>\n",
       "      <td>4</td>\n",
       "      <td>4</td>\n",
       "      <td>4</td>\n",
       "      <td>5</td>\n",
       "      <td>3</td>\n",
       "      <td>4</td>\n",
       "      <td>2</td>\n",
       "      <td>5</td>\n",
       "      <td>5</td>\n",
       "      <td>5</td>\n",
       "      <td>...</td>\n",
       "      <td>5</td>\n",
       "      <td>5</td>\n",
       "      <td>5</td>\n",
       "      <td>5</td>\n",
       "      <td>4</td>\n",
       "      <td>5</td>\n",
       "      <td>5</td>\n",
       "      <td>1</td>\n",
       "      <td>5</td>\n",
       "      <td>2</td>\n",
       "    </tr>\n",
       "  </tbody>\n",
       "</table>\n",
       "<p>6 rows × 44 columns</p>\n",
       "</div>"
      ],
      "text/plain": [
       "    post_A_SE_01  post_A_SE_02  post_A_SE_03  post_A_SE_04  post_A_SE_05  \\\n",
       "6              4             4             4             5             3   \n",
       "7              3             4             5             5             3   \n",
       "8              5             4             4             5             2   \n",
       "9              4             4             4             5             2   \n",
       "10             4             4             4             5             2   \n",
       "11             4             4             4             5             3   \n",
       "\n",
       "    post_A_SE_06  post_A_SE_07  post_A_SE_08  post_A_SE_09  post_A_SE_10  ...  \\\n",
       "6              3             3             4             5             5  ...   \n",
       "7              4             3             5             5             5  ...   \n",
       "8              4             2             5             4             5  ...   \n",
       "9              4             3             4             5             5  ...   \n",
       "10             1             2             4             5             4  ...   \n",
       "11             4             2             5             5             5  ...   \n",
       "\n",
       "    post_C_IF_02  post_C_IF_03  post_C_IF_04  post_C_IF_05  post_C_IF_06  \\\n",
       "6              3             4             4             4             5   \n",
       "7              4             4             4             4             4   \n",
       "8              5             5             5             4             5   \n",
       "9              2             4             5             5             5   \n",
       "10             4             5             4             4             4   \n",
       "11             5             5             5             5             4   \n",
       "\n",
       "    post_C_IF_07  post_C_IF_08  post_C_IF_09  post_C_IF_10  post_C_diff  \n",
       "6              5             5             3             4            3  \n",
       "7              4             4             3             4            2  \n",
       "8              5             5             1             4            3  \n",
       "9              5             5             2             5            5  \n",
       "10             5             5             2             4            4  \n",
       "11             5             5             1             5            2  \n",
       "\n",
       "[6 rows x 44 columns]"
      ]
     },
     "execution_count": 1463,
     "metadata": {},
     "output_type": "execute_result"
    }
   ],
   "source": [
    "self_report=pd.read_csv(\"D:/Dataset/f_Nirsdatasets/k1~12_self-report_dataset.csv\")\n",
    "day1=self_report[6:12] #day1\n",
    "day1.drop(['subjectkey','date','age','sex','right_handed','piano_year','piano_major','impro_experience','condition','post_B_IF_10','pre_SE_10','pre_SE_11'\n",
    "           ,'post_B_diff','post_B_SE_10','post_B_SE_11'],axis=1,inplace=True) # A B C\n",
    "for i in range(1,10):\n",
    "    day1.drop(['pre_SE_0'+str(i)],axis=1,inplace=True)\n",
    "    day1.drop(['post_B_IF_0'+str(i)],axis=1,inplace=True)\n",
    "    day1.drop(['post_B_SE_0'+str(i)],axis=1,inplace=True)\n",
    "day1.loc[:,'post_A_SE_05']=6-day1.loc[:,'post_A_SE_05']\n",
    "day1.loc[:,'post_A_SE_07']=6-day1.loc[:,'post_A_SE_07']\n",
    "day1.loc[:,'post_C_SE_05']=6-day1.loc[:,'post_C_SE_05']\n",
    "day1.loc[:,'post_C_SE_07']=6-day1.loc[:,'post_C_SE_07']\n",
    "day1"
   ]
  },
  {
   "cell_type": "code",
   "execution_count": 1464,
   "metadata": {},
   "outputs": [
    {
     "data": {
      "text/html": [
       "<div>\n",
       "<style scoped>\n",
       "    .dataframe tbody tr th:only-of-type {\n",
       "        vertical-align: middle;\n",
       "    }\n",
       "\n",
       "    .dataframe tbody tr th {\n",
       "        vertical-align: top;\n",
       "    }\n",
       "\n",
       "    .dataframe thead th {\n",
       "        text-align: right;\n",
       "    }\n",
       "</style>\n",
       "<table border=\"1\" class=\"dataframe\">\n",
       "  <thead>\n",
       "    <tr style=\"text-align: right;\">\n",
       "      <th></th>\n",
       "      <th>A</th>\n",
       "      <th>C</th>\n",
       "    </tr>\n",
       "  </thead>\n",
       "  <tbody>\n",
       "    <tr>\n",
       "      <th>0</th>\n",
       "      <td>671</td>\n",
       "      <td>1087</td>\n",
       "    </tr>\n",
       "    <tr>\n",
       "      <th>1</th>\n",
       "      <td>1406</td>\n",
       "      <td>160</td>\n",
       "    </tr>\n",
       "    <tr>\n",
       "      <th>2</th>\n",
       "      <td>1313</td>\n",
       "      <td>263</td>\n",
       "    </tr>\n",
       "    <tr>\n",
       "      <th>3</th>\n",
       "      <td>1338</td>\n",
       "      <td>158</td>\n",
       "    </tr>\n",
       "    <tr>\n",
       "      <th>4</th>\n",
       "      <td>1253</td>\n",
       "      <td>2564</td>\n",
       "    </tr>\n",
       "    <tr>\n",
       "      <th>5</th>\n",
       "      <td>1536</td>\n",
       "      <td>451</td>\n",
       "    </tr>\n",
       "  </tbody>\n",
       "</table>\n",
       "</div>"
      ],
      "text/plain": [
       "      A     C\n",
       "0   671  1087\n",
       "1  1406   160\n",
       "2  1313   263\n",
       "3  1338   158\n",
       "4  1253  2564\n",
       "5  1536   451"
      ]
     },
     "execution_count": 1464,
     "metadata": {},
     "output_type": "execute_result"
    }
   ],
   "source": [
    "SE_1=day1.loc[:,'post_A_SE_01':'post_A_SE_11'] # A B C\n",
    "IF_1=day1.loc[:,'post_A_IF_01':'post_A_IF_10']\n",
    "SE_2=day1.loc[:,'post_C_SE_01':'post_C_SE_11']\n",
    "IF_2=day1.loc[:,'post_C_IF_01':'post_C_IF_10']\n",
    "SE_1=SE_1.reset_index(drop=True)\n",
    "SE_2=SE_2.reset_index(drop=True)\n",
    "IF_1=IF_1.reset_index(drop=True)\n",
    "IF_2=IF_2.reset_index(drop=True)\n",
    "\n",
    "note=pd.read_csv(\"D:/Dataset/f_Nirsdatasets/k1~12_note.csv\")\n",
    "day1_note=note.iloc[6:12,:] # day 1\n",
    "day1_note=day1_note.reset_index(drop=True)\n",
    "day1_AC=day1_note.drop(['B','Unnamed: 0'],axis=1) #A B C\n",
    "\n",
    "SE_score=pd.DataFrame(SE_1.sum(axis=1)/11)\n",
    "SE_score=pd.concat([SE_score,SE_2.sum(axis=1)/11],axis=1)\n",
    "SE_score=SE_score.reset_index(drop=True)\n",
    "IF_score=pd.DataFrame(IF_1.sum(axis=1)/10)\n",
    "IF_score=pd.concat([IF_score,IF_2.sum(axis=1)/11],axis=1)\n",
    "IF_score=IF_score.reset_index(drop=True)\n",
    "day1_AC"
   ]
  },
  {
   "cell_type": "code",
   "execution_count": 1465,
   "metadata": {},
   "outputs": [
    {
     "data": {
      "text/html": [
       "<div>\n",
       "<style scoped>\n",
       "    .dataframe tbody tr th:only-of-type {\n",
       "        vertical-align: middle;\n",
       "    }\n",
       "\n",
       "    .dataframe tbody tr th {\n",
       "        vertical-align: top;\n",
       "    }\n",
       "\n",
       "    .dataframe thead th {\n",
       "        text-align: right;\n",
       "    }\n",
       "</style>\n",
       "<table border=\"1\" class=\"dataframe\">\n",
       "  <thead>\n",
       "    <tr style=\"text-align: right;\">\n",
       "      <th></th>\n",
       "      <th>0</th>\n",
       "      <th>0</th>\n",
       "      <th>0</th>\n",
       "      <th>0</th>\n",
       "      <th>A</th>\n",
       "      <th>C</th>\n",
       "    </tr>\n",
       "  </thead>\n",
       "  <tbody>\n",
       "    <tr>\n",
       "      <th>0</th>\n",
       "      <td>4.090909</td>\n",
       "      <td>3.545455</td>\n",
       "      <td>2.5</td>\n",
       "      <td>3.818182</td>\n",
       "      <td>671</td>\n",
       "      <td>1087</td>\n",
       "    </tr>\n",
       "    <tr>\n",
       "      <th>1</th>\n",
       "      <td>4.272727</td>\n",
       "      <td>4.090909</td>\n",
       "      <td>3.5</td>\n",
       "      <td>3.545455</td>\n",
       "      <td>1406</td>\n",
       "      <td>160</td>\n",
       "    </tr>\n",
       "    <tr>\n",
       "      <th>2</th>\n",
       "      <td>4.090909</td>\n",
       "      <td>4.090909</td>\n",
       "      <td>3.3</td>\n",
       "      <td>4.000000</td>\n",
       "      <td>1313</td>\n",
       "      <td>263</td>\n",
       "    </tr>\n",
       "    <tr>\n",
       "      <th>3</th>\n",
       "      <td>4.090909</td>\n",
       "      <td>4.181818</td>\n",
       "      <td>3.9</td>\n",
       "      <td>3.909091</td>\n",
       "      <td>1338</td>\n",
       "      <td>158</td>\n",
       "    </tr>\n",
       "    <tr>\n",
       "      <th>4</th>\n",
       "      <td>3.636364</td>\n",
       "      <td>4.000000</td>\n",
       "      <td>3.4</td>\n",
       "      <td>3.818182</td>\n",
       "      <td>1253</td>\n",
       "      <td>2564</td>\n",
       "    </tr>\n",
       "    <tr>\n",
       "      <th>5</th>\n",
       "      <td>4.090909</td>\n",
       "      <td>3.545455</td>\n",
       "      <td>3.2</td>\n",
       "      <td>4.090909</td>\n",
       "      <td>1536</td>\n",
       "      <td>451</td>\n",
       "    </tr>\n",
       "  </tbody>\n",
       "</table>\n",
       "</div>"
      ],
      "text/plain": [
       "          0         0    0         0     A     C\n",
       "0  4.090909  3.545455  2.5  3.818182   671  1087\n",
       "1  4.272727  4.090909  3.5  3.545455  1406   160\n",
       "2  4.090909  4.090909  3.3  4.000000  1313   263\n",
       "3  4.090909  4.181818  3.9  3.909091  1338   158\n",
       "4  3.636364  4.000000  3.4  3.818182  1253  2564\n",
       "5  4.090909  3.545455  3.2  4.090909  1536   451"
      ]
     },
     "execution_count": 1465,
     "metadata": {},
     "output_type": "execute_result"
    }
   ],
   "source": [
    "from sklearn.preprocessing import StandardScaler\n",
    "\n",
    "std=StandardScaler()\n",
    "total_survey=pd.concat([SE_score,IF_score],axis=1)\n",
    "total_survey=pd.concat([total_survey,day1_AC],axis=1)\n",
    "total_survey"
   ]
  },
  {
   "attachments": {},
   "cell_type": "markdown",
   "metadata": {},
   "source": [
    "# KMeans clustering"
   ]
  },
  {
   "cell_type": "code",
   "execution_count": 1466,
   "metadata": {},
   "outputs": [],
   "source": [
    "from sklearn.preprocessing import StandardScaler\n",
    "\n",
    "std=StandardScaler()\n",
    "SE_score=std.fit_transform(SE_score)\n",
    "IF_score=std.fit_transform(IF_score)\n",
    "day1_AC=std.fit_transform(day1_AC)"
   ]
  },
  {
   "cell_type": "code",
   "execution_count": 1467,
   "metadata": {},
   "outputs": [
    {
     "name": "stdout",
     "output_type": "stream",
     "text": [
      "[0 1 1 1 2 0]\n",
      "[1 2 0 0 0 0]\n",
      "[1 0 0 0 2 0]\n"
     ]
    }
   ],
   "source": [
    "from sklearn.cluster import KMeans\n",
    "kmeans=KMeans(n_clusters=3,random_state=1)\n",
    "kmeans.fit_transform(SE_score)\n",
    "SE_result=kmeans.labels_\n",
    "print(kmeans.labels_)\n",
    "kmeans.fit_transform(IF_score)\n",
    "IF_result=kmeans.labels_\n",
    "print(kmeans.labels_)\n",
    "kmeans.fit_transform(day1_AC)\n",
    "note_result=kmeans.labels_\n",
    "print(kmeans.labels_)"
   ]
  },
  {
   "cell_type": "code",
   "execution_count": 1468,
   "metadata": {},
   "outputs": [
    {
     "name": "stdout",
     "output_type": "stream",
     "text": [
      "0.66524346389592\n",
      "0.22874979897018208\n",
      "0.5425419313786566\n"
     ]
    }
   ],
   "source": [
    "print(silhouette_score(SE_score,SE_result))\n",
    "print(silhouette_score(IF_score,IF_result))\n",
    "print(silhouette_score(day1_AC,note_result))"
   ]
  },
  {
   "cell_type": "code",
   "execution_count": 1469,
   "metadata": {},
   "outputs": [
    {
     "name": "stdout",
     "output_type": "stream",
     "text": [
      "0.4666666666666667\n",
      "0.4666666666666667\n",
      "0.4666666666666667\n"
     ]
    }
   ],
   "source": [
    "from sklearn.metrics.cluster import rand_score\n",
    "cluster=cluster_fNirs.reshape(-1,)\n",
    "print(rand_score(SE_result,cluster_fNirs))\n",
    "print(rand_score(IF_result,cluster_fNirs))\n",
    "print(rand_score(note_result,cluster_fNirs))"
   ]
  },
  {
   "attachments": {},
   "cell_type": "markdown",
   "metadata": {},
   "source": [
    "# total survey"
   ]
  },
  {
   "cell_type": "code",
   "execution_count": 1470,
   "metadata": {},
   "outputs": [
    {
     "data": {
      "text/html": [
       "<div>\n",
       "<style scoped>\n",
       "    .dataframe tbody tr th:only-of-type {\n",
       "        vertical-align: middle;\n",
       "    }\n",
       "\n",
       "    .dataframe tbody tr th {\n",
       "        vertical-align: top;\n",
       "    }\n",
       "\n",
       "    .dataframe thead th {\n",
       "        text-align: right;\n",
       "    }\n",
       "</style>\n",
       "<table border=\"1\" class=\"dataframe\">\n",
       "  <thead>\n",
       "    <tr style=\"text-align: right;\">\n",
       "      <th></th>\n",
       "      <th>0</th>\n",
       "      <th>0</th>\n",
       "      <th>0</th>\n",
       "      <th>0</th>\n",
       "      <th>A</th>\n",
       "      <th>C</th>\n",
       "    </tr>\n",
       "  </thead>\n",
       "  <tbody>\n",
       "    <tr>\n",
       "      <th>0</th>\n",
       "      <td>4.090909</td>\n",
       "      <td>3.545455</td>\n",
       "      <td>2.5</td>\n",
       "      <td>3.818182</td>\n",
       "      <td>671</td>\n",
       "      <td>1087</td>\n",
       "    </tr>\n",
       "    <tr>\n",
       "      <th>1</th>\n",
       "      <td>4.272727</td>\n",
       "      <td>4.090909</td>\n",
       "      <td>3.5</td>\n",
       "      <td>3.545455</td>\n",
       "      <td>1406</td>\n",
       "      <td>160</td>\n",
       "    </tr>\n",
       "    <tr>\n",
       "      <th>2</th>\n",
       "      <td>4.090909</td>\n",
       "      <td>4.090909</td>\n",
       "      <td>3.3</td>\n",
       "      <td>4.000000</td>\n",
       "      <td>1313</td>\n",
       "      <td>263</td>\n",
       "    </tr>\n",
       "    <tr>\n",
       "      <th>3</th>\n",
       "      <td>4.090909</td>\n",
       "      <td>4.181818</td>\n",
       "      <td>3.9</td>\n",
       "      <td>3.909091</td>\n",
       "      <td>1338</td>\n",
       "      <td>158</td>\n",
       "    </tr>\n",
       "    <tr>\n",
       "      <th>4</th>\n",
       "      <td>3.636364</td>\n",
       "      <td>4.000000</td>\n",
       "      <td>3.4</td>\n",
       "      <td>3.818182</td>\n",
       "      <td>1253</td>\n",
       "      <td>2564</td>\n",
       "    </tr>\n",
       "    <tr>\n",
       "      <th>5</th>\n",
       "      <td>4.090909</td>\n",
       "      <td>3.545455</td>\n",
       "      <td>3.2</td>\n",
       "      <td>4.090909</td>\n",
       "      <td>1536</td>\n",
       "      <td>451</td>\n",
       "    </tr>\n",
       "  </tbody>\n",
       "</table>\n",
       "</div>"
      ],
      "text/plain": [
       "          0         0    0         0     A     C\n",
       "0  4.090909  3.545455  2.5  3.818182   671  1087\n",
       "1  4.272727  4.090909  3.5  3.545455  1406   160\n",
       "2  4.090909  4.090909  3.3  4.000000  1313   263\n",
       "3  4.090909  4.181818  3.9  3.909091  1338   158\n",
       "4  3.636364  4.000000  3.4  3.818182  1253  2564\n",
       "5  4.090909  3.545455  3.2  4.090909  1536   451"
      ]
     },
     "execution_count": 1470,
     "metadata": {},
     "output_type": "execute_result"
    }
   ],
   "source": [
    "total_survey"
   ]
  },
  {
   "cell_type": "code",
   "execution_count": 1471,
   "metadata": {},
   "outputs": [
    {
     "name": "stdout",
     "output_type": "stream",
     "text": [
      "[2 0 0 0 1 0]\n",
      "0.5377444303847688\n",
      "0.4666666666666667\n"
     ]
    },
    {
     "name": "stderr",
     "output_type": "stream",
     "text": [
      "c:\\Users\\bml05\\Anaconda3\\lib\\site-packages\\sklearn\\utils\\validation.py:1688: FutureWarning: Feature names only support names that are all strings. Got feature names with dtypes: ['int', 'str']. An error will be raised in 1.2.\n",
      "  warnings.warn(\n"
     ]
    }
   ],
   "source": [
    "from sklearn.cluster import KMeans\n",
    "kmeans=KMeans(n_clusters=3,random_state=1)\n",
    "kmeans.fit_transform(total_survey)\n",
    "total_result=kmeans.labels_\n",
    "print(kmeans.labels_)\n",
    "print(silhouette_score(total_survey,total_result))\n",
    "print(rand_score(total_result,cluster_fNirs))"
   ]
  },
  {
   "attachments": {},
   "cell_type": "markdown",
   "metadata": {},
   "source": [
    "# hierarchy clustering"
   ]
  },
  {
   "cell_type": "code",
   "execution_count": 1472,
   "metadata": {},
   "outputs": [
    {
     "name": "stdout",
     "output_type": "stream",
     "text": [
      "[0 1 1 1 2 0]\n"
     ]
    },
    {
     "name": "stderr",
     "output_type": "stream",
     "text": [
      "c:\\Users\\bml05\\Anaconda3\\lib\\site-packages\\sklearn\\utils\\validation.py:993: DataConversionWarning: A column-vector y was passed when a 1d array was expected. Please change the shape of y to (n_samples, ), for example using ravel().\n",
      "  y = column_or_1d(y, warn=True)\n"
     ]
    },
    {
     "data": {
      "text/plain": [
       "0.66524346389592"
      ]
     },
     "execution_count": 1472,
     "metadata": {},
     "output_type": "execute_result"
    },
    {
     "data": {
      "image/png": "[encoded data removed]",
      "text/plain": [
       "<Figure size 432x288 with 1 Axes>"
      ]
     },
     "metadata": {
      "needs_background": "light"
     },
     "output_type": "display_data"
    }
   ],
   "source": [
    "links=linkage(SE_score,'average')\n",
    "dendrogram(links,orientation='top',distance_sort='descending',show_leaf_counts=True)\n",
    "cluster=cut_tree(links,3)\n",
    "SE_result=cluster.reshape(-1,)\n",
    "print(SE_result)\n",
    "silhouette_score(SE_score,cluster)"
   ]
  },
  {
   "cell_type": "code",
   "execution_count": 1473,
   "metadata": {},
   "outputs": [
    {
     "name": "stdout",
     "output_type": "stream",
     "text": [
      "[0 1 2 2 2 2]\n"
     ]
    },
    {
     "name": "stderr",
     "output_type": "stream",
     "text": [
      "c:\\Users\\bml05\\Anaconda3\\lib\\site-packages\\sklearn\\utils\\validation.py:993: DataConversionWarning: A column-vector y was passed when a 1d array was expected. Please change the shape of y to (n_samples, ), for example using ravel().\n",
      "  y = column_or_1d(y, warn=True)\n"
     ]
    },
    {
     "data": {
      "text/plain": [
       "0.22874979897018208"
      ]
     },
     "execution_count": 1473,
     "metadata": {},
     "output_type": "execute_result"
    },
    {
     "data": {
      "image/png": "[encoded data removed]",
      "text/plain": [
       "<Figure size 432x288 with 1 Axes>"
      ]
     },
     "metadata": {
      "needs_background": "light"
     },
     "output_type": "display_data"
    }
   ],
   "source": [
    "links=linkage(IF_score,'average')\n",
    "dendrogram(links,orientation='top',distance_sort='descending',show_leaf_counts=True)\n",
    "cluster=cut_tree(links,3)\n",
    "IF_result=cluster.reshape(-1,)\n",
    "print(IF_result)\n",
    "silhouette_score(IF_score,cluster)"
   ]
  },
  {
   "cell_type": "code",
   "execution_count": 1474,
   "metadata": {},
   "outputs": [
    {
     "name": "stdout",
     "output_type": "stream",
     "text": [
      "[0 1 1 1 2 1]\n"
     ]
    },
    {
     "name": "stderr",
     "output_type": "stream",
     "text": [
      "c:\\Users\\bml05\\Anaconda3\\lib\\site-packages\\sklearn\\utils\\validation.py:993: DataConversionWarning: A column-vector y was passed when a 1d array was expected. Please change the shape of y to (n_samples, ), for example using ravel().\n",
      "  y = column_or_1d(y, warn=True)\n"
     ]
    },
    {
     "data": {
      "text/plain": [
       "0.5425419313786566"
      ]
     },
     "execution_count": 1474,
     "metadata": {},
     "output_type": "execute_result"
    },
    {
     "data": {
      "image/png": "[encoded data removed]",
      "text/plain": [
       "<Figure size 432x288 with 1 Axes>"
      ]
     },
     "metadata": {
      "needs_background": "light"
     },
     "output_type": "display_data"
    }
   ],
   "source": [
    "links=linkage(day1_AC,'average')\n",
    "dendrogram(links,orientation='top',distance_sort='descending',show_leaf_counts=True)\n",
    "cluster=cut_tree(links,3)\n",
    "note_result=cluster.reshape(-1,)\n",
    "print(note_result)\n",
    "silhouette_score(day1_AC,cluster)"
   ]
  },
  {
   "cell_type": "code",
   "execution_count": 1475,
   "metadata": {},
   "outputs": [
    {
     "name": "stdout",
     "output_type": "stream",
     "text": [
      "[0 1 1 1 2 1]\n"
     ]
    },
    {
     "data": {
      "text/plain": [
       "0.5377444303847688"
      ]
     },
     "execution_count": 1475,
     "metadata": {},
     "output_type": "execute_result"
    },
    {
     "data": {
      "image/png": "[encoded data removed]",
      "text/plain": [
       "<Figure size 432x288 with 1 Axes>"
      ]
     },
     "metadata": {
      "needs_background": "light"
     },
     "output_type": "display_data"
    }
   ],
   "source": [
    "links=linkage(total_survey,'average')\n",
    "dendrogram(links,orientation='top',distance_sort='descending',show_leaf_counts=True)\n",
    "cluster=cut_tree(links,3)\n",
    "total_result=cluster.reshape(-1,)\n",
    "print(total_result)\n",
    "silhouette_score(total_survey,total_result)"
   ]
  },
  {
   "cell_type": "code",
   "execution_count": 1476,
   "metadata": {},
   "outputs": [
    {
     "name": "stdout",
     "output_type": "stream",
     "text": [
      "0.4666666666666667\n",
      "0.4666666666666667\n",
      "0.4666666666666667\n",
      "0.4666666666666667\n"
     ]
    }
   ],
   "source": [
    "print(rand_score(SE_result,cluster_fNirs))\n",
    "print(rand_score(IF_result,cluster_fNirs))\n",
    "print(rand_score(note_result,cluster_fNirs))\n",
    "print(rand_score(total_result,cluster_fNirs))"
   ]
  }
 ],
 "metadata": {
  "kernelspec": {
   "display_name": "base",
   "language": "python",
   "name": "python3"
  },
  "language_info": {
   "codemirror_mode": {
    "name": "ipython",
    "version": 3
   },
   "file_extension": ".py",
   "mimetype": "text/x-python",
   "name": "python",
   "nbconvert_exporter": "python",
   "pygments_lexer": "ipython3",
   "version": "3.9.12"
  },
  "orig_nbformat": 4
 },
 "nbformat": 4,
 "nbformat_minor": 2
}
